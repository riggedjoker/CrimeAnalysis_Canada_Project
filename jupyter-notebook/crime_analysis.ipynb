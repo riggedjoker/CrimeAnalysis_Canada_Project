{
 "cells": [
  {
   "cell_type": "markdown",
   "metadata": {},
   "source": [
    "# CS2545 - MINI PROJECT"
   ]
  },
  {
   "cell_type": "markdown",
   "metadata": {},
   "source": [
    "## CS2545 - Data Science ###\n",
    "### Winter, 2025 ###\n",
    "### UNB, Fredericton ###"
   ]
  },
  {
   "cell_type": "markdown",
   "metadata": {},
   "source": [
    "## Authors: \n",
    "<li> Manav Maheshwari (3759768) </li>\n",
    "<li> Reyaansh Vohra (3758608)</li>"
   ]
  },
  {
   "cell_type": "markdown",
   "metadata": {},
   "source": [
    "## Importing Libraries\n"
   ]
  },
  {
   "cell_type": "code",
   "execution_count": 12,
   "metadata": {},
   "outputs": [],
   "source": [
    "import pandas as pd\n",
    "import matplotlib as plt\n"
   ]
  },
  {
   "cell_type": "markdown",
   "metadata": {},
   "source": [
    "## Loading the Datasets"
   ]
  },
  {
   "cell_type": "code",
   "execution_count": 13,
   "metadata": {},
   "outputs": [],
   "source": [
    "\n",
    "#Vancouver related datasets\n",
    "vancouver_datasets = pd.read_csv(\"../datasets/Vancouver_all_crimes.csv\")\n",
    "vancouver_population_raw = pd.read_csv(\"../datasets/Vancouver_population.csv\", delimiter = ';')\n",
    "\n",
    "#Toronto related datasets\n",
    "tor_assault_datasets = pd.read_csv(\"../datasets/Toronto_Assaults.csv\")\n",
    "tor_break_and_enter = pd.read_csv(\"../datasets/Toronto_break_and_enter.csv\")\n",
    "tor_homicides = pd.read_csv(\"../datasets/Toronto_Homicides.csv\")\n",
    "toronto_population_raw = pd.read_csv(\"../datasets/Toronto_Population.csv\", delimiter = ';')\n"
   ]
  },
  {
   "cell_type": "markdown",
   "metadata": {},
   "source": [
    "## Data Cleaning"
   ]
  },
  {
   "cell_type": "markdown",
   "metadata": {},
   "source": [
    "### Cleaning of Toronto Population Dataset"
   ]
  },
  {
   "cell_type": "code",
   "execution_count": 14,
   "metadata": {},
   "outputs": [
    {
     "data": {
      "text/html": [
       "<div>\n",
       "<style scoped>\n",
       "    .dataframe tbody tr th:only-of-type {\n",
       "        vertical-align: middle;\n",
       "    }\n",
       "\n",
       "    .dataframe tbody tr th {\n",
       "        vertical-align: top;\n",
       "    }\n",
       "\n",
       "    .dataframe thead th {\n",
       "        text-align: right;\n",
       "    }\n",
       "</style>\n",
       "<table border=\"1\" class=\"dataframe\">\n",
       "  <thead>\n",
       "    <tr style=\"text-align: right;\">\n",
       "      <th></th>\n",
       "      <th>Year</th>\n",
       "      <th>Population</th>\n",
       "    </tr>\n",
       "  </thead>\n",
       "  <tbody>\n",
       "    <tr>\n",
       "      <th>0</th>\n",
       "      <td>2014</td>\n",
       "      <td>5998737</td>\n",
       "    </tr>\n",
       "    <tr>\n",
       "      <th>1</th>\n",
       "      <td>2015</td>\n",
       "      <td>6045240</td>\n",
       "    </tr>\n",
       "    <tr>\n",
       "      <th>2</th>\n",
       "      <td>2016</td>\n",
       "      <td>6125013</td>\n",
       "    </tr>\n",
       "    <tr>\n",
       "      <th>3</th>\n",
       "      <td>2017</td>\n",
       "      <td>6217328</td>\n",
       "    </tr>\n",
       "    <tr>\n",
       "      <th>4</th>\n",
       "      <td>2018</td>\n",
       "      <td>6337780</td>\n",
       "    </tr>\n",
       "    <tr>\n",
       "      <th>5</th>\n",
       "      <td>2019</td>\n",
       "      <td>6462898</td>\n",
       "    </tr>\n",
       "    <tr>\n",
       "      <th>6</th>\n",
       "      <td>2020</td>\n",
       "      <td>6543886</td>\n",
       "    </tr>\n",
       "    <tr>\n",
       "      <th>7</th>\n",
       "      <td>2021</td>\n",
       "      <td>6547381</td>\n",
       "    </tr>\n",
       "    <tr>\n",
       "      <th>8</th>\n",
       "      <td>2022</td>\n",
       "      <td>6685621</td>\n",
       "    </tr>\n",
       "  </tbody>\n",
       "</table>\n",
       "</div>"
      ],
      "text/plain": [
       "   Year  Population\n",
       "0  2014     5998737\n",
       "1  2015     6045240\n",
       "2  2016     6125013\n",
       "3  2017     6217328\n",
       "4  2018     6337780\n",
       "5  2019     6462898\n",
       "6  2020     6543886\n",
       "7  2021     6547381\n",
       "8  2022     6685621"
      ]
     },
     "execution_count": 14,
     "metadata": {},
     "output_type": "execute_result"
    }
   ],
   "source": [
    "year_raw = toronto_population_raw.iloc[8, 0]\n",
    "population_raw = toronto_population_raw.iloc[10, 0]\n",
    "#Cleaning the data\n",
    "year = [int(year.replace('\"', '').strip()) for year in year_raw.split(',')[1:]]\n",
    "population = [int(population.replace('\"', '').strip()) for population in population_raw.split(',')[2:]]\n",
    "#printing it as a dataframe\n",
    "toronto_population = pd.DataFrame({\"Year\": year, \"Population\": population})\n",
    "toronto_population"
   ]
  },
  {
   "cell_type": "markdown",
   "metadata": {},
   "source": [
    "### Cleaning of Vancouver Population Dataset"
   ]
  },
  {
   "cell_type": "code",
   "execution_count": 15,
   "metadata": {},
   "outputs": [
    {
     "data": {
      "text/html": [
       "<div>\n",
       "<style scoped>\n",
       "    .dataframe tbody tr th:only-of-type {\n",
       "        vertical-align: middle;\n",
       "    }\n",
       "\n",
       "    .dataframe tbody tr th {\n",
       "        vertical-align: top;\n",
       "    }\n",
       "\n",
       "    .dataframe thead th {\n",
       "        text-align: right;\n",
       "    }\n",
       "</style>\n",
       "<table border=\"1\" class=\"dataframe\">\n",
       "  <thead>\n",
       "    <tr style=\"text-align: right;\">\n",
       "      <th></th>\n",
       "      <th>Year</th>\n",
       "      <th>Population</th>\n",
       "    </tr>\n",
       "  </thead>\n",
       "  <tbody>\n",
       "    <tr>\n",
       "      <th>0</th>\n",
       "      <td>2014</td>\n",
       "      <td>2507414</td>\n",
       "    </tr>\n",
       "    <tr>\n",
       "      <th>1</th>\n",
       "      <td>2015</td>\n",
       "      <td>2544484</td>\n",
       "    </tr>\n",
       "    <tr>\n",
       "      <th>2</th>\n",
       "      <td>2016</td>\n",
       "      <td>2582202</td>\n",
       "    </tr>\n",
       "    <tr>\n",
       "      <th>3</th>\n",
       "      <td>2017</td>\n",
       "      <td>2616904</td>\n",
       "    </tr>\n",
       "    <tr>\n",
       "      <th>4</th>\n",
       "      <td>2018</td>\n",
       "      <td>2658582</td>\n",
       "    </tr>\n",
       "    <tr>\n",
       "      <th>5</th>\n",
       "      <td>2019</td>\n",
       "      <td>2709277</td>\n",
       "    </tr>\n",
       "    <tr>\n",
       "      <th>6</th>\n",
       "      <td>2020</td>\n",
       "      <td>2743765</td>\n",
       "    </tr>\n",
       "    <tr>\n",
       "      <th>7</th>\n",
       "      <td>2021</td>\n",
       "      <td>2764932</td>\n",
       "    </tr>\n",
       "    <tr>\n",
       "      <th>8</th>\n",
       "      <td>2022</td>\n",
       "      <td>2842730</td>\n",
       "    </tr>\n",
       "  </tbody>\n",
       "</table>\n",
       "</div>"
      ],
      "text/plain": [
       "   Year  Population\n",
       "0  2014     2507414\n",
       "1  2015     2544484\n",
       "2  2016     2582202\n",
       "3  2017     2616904\n",
       "4  2018     2658582\n",
       "5  2019     2709277\n",
       "6  2020     2743765\n",
       "7  2021     2764932\n",
       "8  2022     2842730"
      ]
     },
     "execution_count": 15,
     "metadata": {},
     "output_type": "execute_result"
    }
   ],
   "source": [
    "year_raw = vancouver_population_raw.iloc[8, 0]\n",
    "population_raw = vancouver_population_raw.iloc[10, 0]\n",
    "#Cleaning the data\n",
    "year = [int(year.replace('\"', '').strip()) for year in year_raw.split(',')[1:]]\n",
    "population = [int(population.replace('\"', '').strip()) for population in population_raw.split(',')[2:]]\n",
    "#printing it as a dataframe\n",
    "vancouver_population = pd.DataFrame({\"Year\": year, \"Population\": population})\n",
    "vancouver_population"
   ]
  },
  {
   "cell_type": "markdown",
   "metadata": {},
   "source": [
    "### Cleaning of Vancouver Crime Dataset"
   ]
  },
  {
   "cell_type": "markdown",
   "metadata": {},
   "source": []
  },
  {
   "cell_type": "code",
   "execution_count": 16,
   "metadata": {},
   "outputs": [
    {
     "data": {
      "text/html": [
       "<div>\n",
       "<style scoped>\n",
       "    .dataframe tbody tr th:only-of-type {\n",
       "        vertical-align: middle;\n",
       "    }\n",
       "\n",
       "    .dataframe tbody tr th {\n",
       "        vertical-align: top;\n",
       "    }\n",
       "\n",
       "    .dataframe thead th {\n",
       "        text-align: right;\n",
       "    }\n",
       "</style>\n",
       "<table border=\"1\" class=\"dataframe\">\n",
       "  <thead>\n",
       "    <tr style=\"text-align: right;\">\n",
       "      <th></th>\n",
       "      <th>CRIMES</th>\n",
       "      <th>YEAR</th>\n",
       "      <th>NEIGHBOURHOOD</th>\n",
       "    </tr>\n",
       "  </thead>\n",
       "  <tbody>\n",
       "    <tr>\n",
       "      <th>4</th>\n",
       "      <td>Break and Enter</td>\n",
       "      <td>2014</td>\n",
       "      <td>West End</td>\n",
       "    </tr>\n",
       "    <tr>\n",
       "      <th>22</th>\n",
       "      <td>Break and Enter</td>\n",
       "      <td>2014</td>\n",
       "      <td>West End</td>\n",
       "    </tr>\n",
       "    <tr>\n",
       "      <th>12</th>\n",
       "      <td>Break and Enter</td>\n",
       "      <td>2014</td>\n",
       "      <td>West End</td>\n",
       "    </tr>\n",
       "    <tr>\n",
       "      <th>13</th>\n",
       "      <td>Break and Enter</td>\n",
       "      <td>2014</td>\n",
       "      <td>West End</td>\n",
       "    </tr>\n",
       "    <tr>\n",
       "      <th>163</th>\n",
       "      <td>Break and Enter</td>\n",
       "      <td>2014</td>\n",
       "      <td>Central Business District</td>\n",
       "    </tr>\n",
       "    <tr>\n",
       "      <th>...</th>\n",
       "      <td>...</td>\n",
       "      <td>...</td>\n",
       "      <td>...</td>\n",
       "    </tr>\n",
       "    <tr>\n",
       "      <th>267824</th>\n",
       "      <td>Assault</td>\n",
       "      <td>2024</td>\n",
       "      <td>Central Business District</td>\n",
       "    </tr>\n",
       "    <tr>\n",
       "      <th>267823</th>\n",
       "      <td>Assault</td>\n",
       "      <td>2024</td>\n",
       "      <td>Central Business District</td>\n",
       "    </tr>\n",
       "    <tr>\n",
       "      <th>45165</th>\n",
       "      <td>Break and Enter</td>\n",
       "      <td>2024</td>\n",
       "      <td>Marpole</td>\n",
       "    </tr>\n",
       "    <tr>\n",
       "      <th>267820</th>\n",
       "      <td>Assault</td>\n",
       "      <td>2024</td>\n",
       "      <td>Central Business District</td>\n",
       "    </tr>\n",
       "    <tr>\n",
       "      <th>268241</th>\n",
       "      <td>Assault</td>\n",
       "      <td>2024</td>\n",
       "      <td>Central Business District</td>\n",
       "    </tr>\n",
       "  </tbody>\n",
       "</table>\n",
       "<p>86032 rows × 3 columns</p>\n",
       "</div>"
      ],
      "text/plain": [
       "                 CRIMES  YEAR              NEIGHBOURHOOD\n",
       "4       Break and Enter  2014                   West End\n",
       "22      Break and Enter  2014                   West End\n",
       "12      Break and Enter  2014                   West End\n",
       "13      Break and Enter  2014                   West End\n",
       "163     Break and Enter  2014  Central Business District\n",
       "...                 ...   ...                        ...\n",
       "267824          Assault  2024  Central Business District\n",
       "267823          Assault  2024  Central Business District\n",
       "45165   Break and Enter  2024                    Marpole\n",
       "267820          Assault  2024  Central Business District\n",
       "268241          Assault  2024  Central Business District\n",
       "\n",
       "[86032 rows x 3 columns]"
      ]
     },
     "execution_count": 16,
     "metadata": {},
     "output_type": "execute_result"
    }
   ],
   "source": [
    "vd = vancouver_datasets.sort_values(by = 'YEAR', ascending=True)\n",
    "sorted_values = ['Offence Against a Person', 'Homicide', 'Break and Enter Commercial', 'Break and Enter Residential/Other']\n",
    "\n",
    "vd['CRIMES'] = vd['TYPE']\n",
    "vancouver_dataset = vd[vd['CRIMES'].isin(sorted_values)][['CRIMES', 'YEAR', 'NEIGHBOURHOOD']]\n",
    "\n",
    "vancouver_dataset = vancouver_dataset[(vancouver_dataset['YEAR'] > 2013) & (vancouver_dataset['YEAR'] < 2025)]\n",
    "\n",
    "vancouver_dataset['CRIMES'] = vancouver_dataset['CRIMES'].replace({\n",
    "    'Break and Enter Commercial': 'Break and Enter',\n",
    "    'Break and Enter Residential/Other': 'Break and Enter',\n",
    "    'Offence Against a Person' : 'Assault'\n",
    "})\n",
    "\n",
    "\n",
    "vancouver_dataset\n"
   ]
  },
  {
   "cell_type": "markdown",
   "metadata": {},
   "source": [
    "### Cleaning of Toronto Crime Dataset"
   ]
  },
  {
   "cell_type": "code",
   "execution_count": 17,
   "metadata": {},
   "outputs": [
    {
     "data": {
      "text/html": [
       "<div>\n",
       "<style scoped>\n",
       "    .dataframe tbody tr th:only-of-type {\n",
       "        vertical-align: middle;\n",
       "    }\n",
       "\n",
       "    .dataframe tbody tr th {\n",
       "        vertical-align: top;\n",
       "    }\n",
       "\n",
       "    .dataframe thead th {\n",
       "        text-align: right;\n",
       "    }\n",
       "</style>\n",
       "<table border=\"1\" class=\"dataframe\">\n",
       "  <thead>\n",
       "    <tr style=\"text-align: right;\">\n",
       "      <th></th>\n",
       "      <th>CRIMES</th>\n",
       "      <th>YEAR</th>\n",
       "      <th>NEIGHBOURHOOD</th>\n",
       "    </tr>\n",
       "  </thead>\n",
       "  <tbody>\n",
       "    <tr>\n",
       "      <th>0</th>\n",
       "      <td>Assault</td>\n",
       "      <td>2014</td>\n",
       "      <td>Corso Italia-Davenport (92)</td>\n",
       "    </tr>\n",
       "    <tr>\n",
       "      <th>1</th>\n",
       "      <td>Assault</td>\n",
       "      <td>2014</td>\n",
       "      <td>Lawrence Park North (105)</td>\n",
       "    </tr>\n",
       "    <tr>\n",
       "      <th>2</th>\n",
       "      <td>Assault</td>\n",
       "      <td>2014</td>\n",
       "      <td>Palmerston-Little Italy (80)</td>\n",
       "    </tr>\n",
       "    <tr>\n",
       "      <th>4</th>\n",
       "      <td>Assault</td>\n",
       "      <td>2014</td>\n",
       "      <td>West Rouge (143)</td>\n",
       "    </tr>\n",
       "    <tr>\n",
       "      <th>5</th>\n",
       "      <td>Assault</td>\n",
       "      <td>2014</td>\n",
       "      <td>West Rouge (143)</td>\n",
       "    </tr>\n",
       "    <tr>\n",
       "      <th>...</th>\n",
       "      <td>...</td>\n",
       "      <td>...</td>\n",
       "      <td>...</td>\n",
       "    </tr>\n",
       "    <tr>\n",
       "      <th>1476</th>\n",
       "      <td>Homicide</td>\n",
       "      <td>2024</td>\n",
       "      <td>Blake-Jones (69)</td>\n",
       "    </tr>\n",
       "    <tr>\n",
       "      <th>1477</th>\n",
       "      <td>Homicide</td>\n",
       "      <td>2024</td>\n",
       "      <td>Englemount-Lawrence (32)</td>\n",
       "    </tr>\n",
       "    <tr>\n",
       "      <th>1478</th>\n",
       "      <td>Homicide</td>\n",
       "      <td>2024</td>\n",
       "      <td>Scarborough Village (139)</td>\n",
       "    </tr>\n",
       "    <tr>\n",
       "      <th>1479</th>\n",
       "      <td>Homicide</td>\n",
       "      <td>2024</td>\n",
       "      <td>Corso Italia-Davenport (92)</td>\n",
       "    </tr>\n",
       "    <tr>\n",
       "      <th>1480</th>\n",
       "      <td>Homicide</td>\n",
       "      <td>2024</td>\n",
       "      <td>Weston-Pelham Park (91)</td>\n",
       "    </tr>\n",
       "  </tbody>\n",
       "</table>\n",
       "<p>299841 rows × 3 columns</p>\n",
       "</div>"
      ],
      "text/plain": [
       "        CRIMES  YEAR                 NEIGHBOURHOOD\n",
       "0      Assault  2014   Corso Italia-Davenport (92)\n",
       "1      Assault  2014     Lawrence Park North (105)\n",
       "2      Assault  2014  Palmerston-Little Italy (80)\n",
       "4      Assault  2014              West Rouge (143)\n",
       "5      Assault  2014              West Rouge (143)\n",
       "...        ...   ...                           ...\n",
       "1476  Homicide  2024              Blake-Jones (69)\n",
       "1477  Homicide  2024      Englemount-Lawrence (32)\n",
       "1478  Homicide  2024     Scarborough Village (139)\n",
       "1479  Homicide  2024   Corso Italia-Davenport (92)\n",
       "1480  Homicide  2024       Weston-Pelham Park (91)\n",
       "\n",
       "[299841 rows x 3 columns]"
      ]
     },
     "execution_count": 17,
     "metadata": {},
     "output_type": "execute_result"
    }
   ],
   "source": [
    "import pandas as pd\n",
    "#fulfilling the first merge successfully\n",
    "toronto_first_merge = pd.concat([tor_assault_datasets, tor_break_and_enter], axis=0)\n",
    "toronto_first_merge['MERGED_CRIMES'] = toronto_first_merge['MCI_CATEGORY'].combine_first(toronto_first_merge['OFFENCE'])\n",
    "toronto_first_clean = toronto_first_merge.drop(columns = ['MCI_CATEGORY', 'OFFENCE'])\n",
    "\n",
    "toronto_first_clean.dropna()\n",
    "#the second cleaning with toronto_homicides\n",
    "toronto_second_merge = pd.concat([toronto_first_clean, tor_homicides], axis = 0)\n",
    "toronto_second_merge['CRIMES'] = toronto_second_merge['MERGED_CRIMES'].combine_first(toronto_second_merge['HOMICIDE_TYPE'])\n",
    "\n",
    "\n",
    "toronto_dataset = toronto_second_merge.drop(columns= ['MERGED_CRIMES', 'HOMICIDE_TYPE'])\n",
    "toronto_dataset['NEIGHBOURHOOD'] = toronto_dataset['NEIGHBOURHOOD_158']\n",
    "toronto_dataset['YEAR'] = toronto_dataset['OCC_YEAR'].fillna(0).astype(int)\n",
    "\n",
    "toronto_dataset['CRIMES'] = toronto_dataset['CRIMES'].replace({\n",
    "    'Shooting': 'Homicide',\n",
    "    'Stabbing': 'Homicide',\n",
    "})\n",
    "\n",
    "toronto_dataset = toronto_dataset[~toronto_dataset['CRIMES'].isin(['Other'])]\n",
    "toronto_dataset = toronto_dataset[(toronto_dataset['YEAR'] > 2013) & (toronto_dataset['YEAR'] < 2025)]\n",
    "\n",
    "toronto_dataset = toronto_dataset[['CRIMES', 'YEAR', 'NEIGHBOURHOOD']].dropna()\n",
    "toronto_dataset\n"
   ]
  },
  {
   "cell_type": "markdown",
   "metadata": {},
   "source": [
    "## DATA PROCESSING SECTION"
   ]
  },
  {
   "cell_type": "markdown",
   "metadata": {},
   "source": [
    "### Analyzing crime rates across different cities of Canada."
   ]
  },
  {
   "cell_type": "markdown",
   "metadata": {},
   "source": [
    "#### Total Crime Count Per Year For Toronto"
   ]
  },
  {
   "cell_type": "code",
   "execution_count": 18,
   "metadata": {},
   "outputs": [
    {
     "data": {
      "text/html": [
       "<div>\n",
       "<style scoped>\n",
       "    .dataframe tbody tr th:only-of-type {\n",
       "        vertical-align: middle;\n",
       "    }\n",
       "\n",
       "    .dataframe tbody tr th {\n",
       "        vertical-align: top;\n",
       "    }\n",
       "\n",
       "    .dataframe thead th {\n",
       "        text-align: right;\n",
       "    }\n",
       "</style>\n",
       "<table border=\"1\" class=\"dataframe\">\n",
       "  <thead>\n",
       "    <tr style=\"text-align: right;\">\n",
       "      <th></th>\n",
       "      <th>YEAR</th>\n",
       "      <th>Crime Count of Toronto</th>\n",
       "    </tr>\n",
       "  </thead>\n",
       "  <tbody>\n",
       "    <tr>\n",
       "      <th>0</th>\n",
       "      <td>2014</td>\n",
       "      <td>24131</td>\n",
       "    </tr>\n",
       "    <tr>\n",
       "      <th>1</th>\n",
       "      <td>2015</td>\n",
       "      <td>25155</td>\n",
       "    </tr>\n",
       "    <tr>\n",
       "      <th>2</th>\n",
       "      <td>2016</td>\n",
       "      <td>25558</td>\n",
       "    </tr>\n",
       "    <tr>\n",
       "      <th>3</th>\n",
       "      <td>2017</td>\n",
       "      <td>26684</td>\n",
       "    </tr>\n",
       "    <tr>\n",
       "      <th>4</th>\n",
       "      <td>2018</td>\n",
       "      <td>27802</td>\n",
       "    </tr>\n",
       "    <tr>\n",
       "      <th>5</th>\n",
       "      <td>2019</td>\n",
       "      <td>29752</td>\n",
       "    </tr>\n",
       "    <tr>\n",
       "      <th>6</th>\n",
       "      <td>2020</td>\n",
       "      <td>25477</td>\n",
       "    </tr>\n",
       "    <tr>\n",
       "      <th>7</th>\n",
       "      <td>2021</td>\n",
       "      <td>24956</td>\n",
       "    </tr>\n",
       "    <tr>\n",
       "      <th>8</th>\n",
       "      <td>2022</td>\n",
       "      <td>27471</td>\n",
       "    </tr>\n",
       "  </tbody>\n",
       "</table>\n",
       "</div>"
      ],
      "text/plain": [
       "   YEAR  Crime Count of Toronto\n",
       "0  2014                   24131\n",
       "1  2015                   25155\n",
       "2  2016                   25558\n",
       "3  2017                   26684\n",
       "4  2018                   27802\n",
       "5  2019                   29752\n",
       "6  2020                   25477\n",
       "7  2021                   24956\n",
       "8  2022                   27471"
      ]
     },
     "execution_count": 18,
     "metadata": {},
     "output_type": "execute_result"
    }
   ],
   "source": [
    "toronto_crime_per_year = toronto_dataset.groupby('YEAR').size()\n",
    "\n",
    "toronto_crime_per_year = toronto_crime_per_year.reset_index(name = 'Crime Count of Toronto')\n",
    "\n",
    "toronto_crime = toronto_crime_per_year[toronto_crime_per_year['YEAR'] < 2023]\n",
    "toronto_crime\n",
    "\n"
   ]
  },
  {
   "cell_type": "markdown",
   "metadata": {},
   "source": [
    "<h4> Total Crime Count Per Year For Vancouver </h4>"
   ]
  },
  {
   "cell_type": "code",
   "execution_count": 19,
   "metadata": {},
   "outputs": [
    {
     "data": {
      "text/html": [
       "<div>\n",
       "<style scoped>\n",
       "    .dataframe tbody tr th:only-of-type {\n",
       "        vertical-align: middle;\n",
       "    }\n",
       "\n",
       "    .dataframe tbody tr th {\n",
       "        vertical-align: top;\n",
       "    }\n",
       "\n",
       "    .dataframe thead th {\n",
       "        text-align: right;\n",
       "    }\n",
       "</style>\n",
       "<table border=\"1\" class=\"dataframe\">\n",
       "  <thead>\n",
       "    <tr style=\"text-align: right;\">\n",
       "      <th></th>\n",
       "      <th>YEAR</th>\n",
       "      <th>Crime Count of Vancouver</th>\n",
       "    </tr>\n",
       "  </thead>\n",
       "  <tbody>\n",
       "    <tr>\n",
       "      <th>0</th>\n",
       "      <td>2014</td>\n",
       "      <td>8421</td>\n",
       "    </tr>\n",
       "    <tr>\n",
       "      <th>1</th>\n",
       "      <td>2015</td>\n",
       "      <td>8775</td>\n",
       "    </tr>\n",
       "    <tr>\n",
       "      <th>2</th>\n",
       "      <td>2016</td>\n",
       "      <td>8881</td>\n",
       "    </tr>\n",
       "    <tr>\n",
       "      <th>3</th>\n",
       "      <td>2017</td>\n",
       "      <td>7845</td>\n",
       "    </tr>\n",
       "    <tr>\n",
       "      <th>4</th>\n",
       "      <td>2018</td>\n",
       "      <td>7503</td>\n",
       "    </tr>\n",
       "    <tr>\n",
       "      <th>5</th>\n",
       "      <td>2019</td>\n",
       "      <td>8240</td>\n",
       "    </tr>\n",
       "    <tr>\n",
       "      <th>6</th>\n",
       "      <td>2020</td>\n",
       "      <td>8647</td>\n",
       "    </tr>\n",
       "    <tr>\n",
       "      <th>7</th>\n",
       "      <td>2021</td>\n",
       "      <td>7374</td>\n",
       "    </tr>\n",
       "    <tr>\n",
       "      <th>8</th>\n",
       "      <td>2022</td>\n",
       "      <td>7213</td>\n",
       "    </tr>\n",
       "  </tbody>\n",
       "</table>\n",
       "</div>"
      ],
      "text/plain": [
       "   YEAR  Crime Count of Vancouver\n",
       "0  2014                      8421\n",
       "1  2015                      8775\n",
       "2  2016                      8881\n",
       "3  2017                      7845\n",
       "4  2018                      7503\n",
       "5  2019                      8240\n",
       "6  2020                      8647\n",
       "7  2021                      7374\n",
       "8  2022                      7213"
      ]
     },
     "execution_count": 19,
     "metadata": {},
     "output_type": "execute_result"
    }
   ],
   "source": [
    "vancouver_crime_per_year = vancouver_dataset.groupby('YEAR').size()\n",
    "\n",
    "vancouver_crime_per_year = vancouver_crime_per_year.reset_index(name = 'Crime Count of Vancouver')\n",
    "\n",
    "vancouver_crime = vancouver_crime_per_year[vancouver_crime_per_year['YEAR'] < 2023]\n",
    "\n",
    "vancouver_crime"
   ]
  },
  {
   "cell_type": "markdown",
   "metadata": {},
   "source": [
    "#### Crime Rate Analysis"
   ]
  },
  {
   "cell_type": "markdown",
   "metadata": {},
   "source": [
    "#### Toronto"
   ]
  },
  {
   "cell_type": "code",
   "execution_count": 21,
   "metadata": {},
   "outputs": [
    {
     "data": {
      "text/html": [
       "<div>\n",
       "<style scoped>\n",
       "    .dataframe tbody tr th:only-of-type {\n",
       "        vertical-align: middle;\n",
       "    }\n",
       "\n",
       "    .dataframe tbody tr th {\n",
       "        vertical-align: top;\n",
       "    }\n",
       "\n",
       "    .dataframe thead th {\n",
       "        text-align: right;\n",
       "    }\n",
       "</style>\n",
       "<table border=\"1\" class=\"dataframe\">\n",
       "  <thead>\n",
       "    <tr style=\"text-align: right;\">\n",
       "      <th></th>\n",
       "      <th>YEAR</th>\n",
       "      <th>Crime Rate</th>\n",
       "    </tr>\n",
       "  </thead>\n",
       "  <tbody>\n",
       "    <tr>\n",
       "      <th>0</th>\n",
       "      <td>2014</td>\n",
       "      <td>402.268011</td>\n",
       "    </tr>\n",
       "    <tr>\n",
       "      <th>1</th>\n",
       "      <td>2015</td>\n",
       "      <td>416.112512</td>\n",
       "    </tr>\n",
       "    <tr>\n",
       "      <th>2</th>\n",
       "      <td>2016</td>\n",
       "      <td>417.272584</td>\n",
       "    </tr>\n",
       "    <tr>\n",
       "      <th>3</th>\n",
       "      <td>2017</td>\n",
       "      <td>429.187587</td>\n",
       "    </tr>\n",
       "    <tr>\n",
       "      <th>4</th>\n",
       "      <td>2018</td>\n",
       "      <td>438.670954</td>\n",
       "    </tr>\n",
       "    <tr>\n",
       "      <th>5</th>\n",
       "      <td>2019</td>\n",
       "      <td>460.350759</td>\n",
       "    </tr>\n",
       "    <tr>\n",
       "      <th>6</th>\n",
       "      <td>2020</td>\n",
       "      <td>389.325242</td>\n",
       "    </tr>\n",
       "    <tr>\n",
       "      <th>7</th>\n",
       "      <td>2021</td>\n",
       "      <td>381.160039</td>\n",
       "    </tr>\n",
       "    <tr>\n",
       "      <th>8</th>\n",
       "      <td>2022</td>\n",
       "      <td>410.896759</td>\n",
       "    </tr>\n",
       "  </tbody>\n",
       "</table>\n",
       "</div>"
      ],
      "text/plain": [
       "   YEAR  Crime Rate\n",
       "0  2014  402.268011\n",
       "1  2015  416.112512\n",
       "2  2016  417.272584\n",
       "3  2017  429.187587\n",
       "4  2018  438.670954\n",
       "5  2019  460.350759\n",
       "6  2020  389.325242\n",
       "7  2021  381.160039\n",
       "8  2022  410.896759"
      ]
     },
     "execution_count": 21,
     "metadata": {},
     "output_type": "execute_result"
    }
   ],
   "source": [
    "#to merge the crime data with population data\n",
    "toronto_crime_rate= pd.concat([toronto_crime, toronto_population], axis = 1).fillna(0).astype(int)\n",
    "\n",
    "toronto_crime_rate[\"Crime Rate\"] = (toronto_crime_rate[\"Crime Count of Toronto\"] / toronto_crime_rate[\"Population\"]) * 100000\n",
    "#Year is the same and having two of them is redundant.\n",
    "toronto_analysis = toronto_crime_rate[['YEAR', 'Crime Rate']]\n",
    "\n",
    "toronto_analysis"
   ]
  },
  {
   "cell_type": "markdown",
   "metadata": {},
   "source": [
    "#### Vancouver"
   ]
  },
  {
   "cell_type": "code",
   "execution_count": null,
   "metadata": {},
   "outputs": [
    {
     "data": {
      "text/html": [
       "<div>\n",
       "<style scoped>\n",
       "    .dataframe tbody tr th:only-of-type {\n",
       "        vertical-align: middle;\n",
       "    }\n",
       "\n",
       "    .dataframe tbody tr th {\n",
       "        vertical-align: top;\n",
       "    }\n",
       "\n",
       "    .dataframe thead th {\n",
       "        text-align: right;\n",
       "    }\n",
       "</style>\n",
       "<table border=\"1\" class=\"dataframe\">\n",
       "  <thead>\n",
       "    <tr style=\"text-align: right;\">\n",
       "      <th></th>\n",
       "      <th>YEAR</th>\n",
       "      <th>Crime Rate</th>\n",
       "    </tr>\n",
       "  </thead>\n",
       "  <tbody>\n",
       "    <tr>\n",
       "      <th>0</th>\n",
       "      <td>2014</td>\n",
       "      <td>335.844021</td>\n",
       "    </tr>\n",
       "    <tr>\n",
       "      <th>1</th>\n",
       "      <td>2015</td>\n",
       "      <td>344.863634</td>\n",
       "    </tr>\n",
       "    <tr>\n",
       "      <th>2</th>\n",
       "      <td>2016</td>\n",
       "      <td>343.931265</td>\n",
       "    </tr>\n",
       "    <tr>\n",
       "      <th>3</th>\n",
       "      <td>2017</td>\n",
       "      <td>299.781727</td>\n",
       "    </tr>\n",
       "    <tr>\n",
       "      <th>4</th>\n",
       "      <td>2018</td>\n",
       "      <td>282.218115</td>\n",
       "    </tr>\n",
       "    <tr>\n",
       "      <th>5</th>\n",
       "      <td>2019</td>\n",
       "      <td>304.140182</td>\n",
       "    </tr>\n",
       "    <tr>\n",
       "      <th>6</th>\n",
       "      <td>2020</td>\n",
       "      <td>315.150897</td>\n",
       "    </tr>\n",
       "    <tr>\n",
       "      <th>7</th>\n",
       "      <td>2021</td>\n",
       "      <td>266.697336</td>\n",
       "    </tr>\n",
       "    <tr>\n",
       "      <th>8</th>\n",
       "      <td>2022</td>\n",
       "      <td>253.734966</td>\n",
       "    </tr>\n",
       "  </tbody>\n",
       "</table>\n",
       "</div>"
      ],
      "text/plain": [
       "   YEAR  Crime Rate\n",
       "0  2014  335.844021\n",
       "1  2015  344.863634\n",
       "2  2016  343.931265\n",
       "3  2017  299.781727\n",
       "4  2018  282.218115\n",
       "5  2019  304.140182\n",
       "6  2020  315.150897\n",
       "7  2021  266.697336\n",
       "8  2022  253.734966"
      ]
     },
     "execution_count": 48,
     "metadata": {},
     "output_type": "execute_result"
    }
   ],
   "source": [
    "vancouver_crime_rate = pd.concat([vancouver_crime, vancouver_population], axis = 1).fillna(0).astype(int)\n",
    "\n",
    "vancouver_crime_rate[\"Crime Rate\"] = (vancouver_crime_rate[\"Crime Count of Vancouver\"] / vancouver_crime_rate[\"Population\"]) * 100000\n",
    "#Year is the same and having two of them is redundant.\n",
    "vancouver_analysis = vancouver_crime_rate[['YEAR', 'Crime Rate']]\n",
    "\n",
    "vancouver_analysis"
   ]
  },
  {
   "cell_type": "markdown",
   "metadata": {},
   "source": [
    "#### Visualization"
   ]
  },
  {
   "cell_type": "code",
   "execution_count": null,
   "metadata": {},
   "outputs": [
    {
     "data": {
      "image/png": "[encoded data removed]",
      "text/plain": [
       "<Figure size 1000x600 with 1 Axes>"
      ]
     },
     "metadata": {},
     "output_type": "display_data"
    }
   ],
   "source": [
    "import matplotlib.pyplot as plt\n",
    "\n",
    "plt.figure(figsize=(10, 6))\n",
    "plt.plot(toronto_crime_rate[\"Year\"], toronto_crime_rate[\"Crime Rate\"], label=\"Toronto\", marker=\"o\")\n",
    "plt.plot(vancouver_crime_rate[\"Year\"], vancouver_crime_rate[\"Crime Rate\"], label=\"Vancouver\", marker=\"o\")\n",
    "plt.title(\"Crime Rate Comparison: Toronto and Vancouver (per 100,000 people)\")\n",
    "plt.xlabel(\"Year\")\n",
    "plt.ylabel(\"Crime Rate\")\n",
    "plt.legend()\n",
    "plt.grid(True)\n",
    "plt.tight_layout()\n",
    "plt.show()\n"
   ]
  },
  {
   "cell_type": "markdown",
   "metadata": {},
   "source": [
    "### Visualize trends over time for various types of crime"
   ]
  },
  {
   "cell_type": "markdown",
   "metadata": {},
   "source": [
    "#### Vancouver"
   ]
  },
  {
   "cell_type": "code",
   "execution_count": null,
   "metadata": {},
   "outputs": [
    {
     "data": {
      "text/plain": [
       "<Figure size 1400x800 with 0 Axes>"
      ]
     },
     "metadata": {},
     "output_type": "display_data"
    },
    {
     "data": {
      "image/png": "[encoded data removed]",
      "text/plain": [
       "<Figure size 1400x800 with 1 Axes>"
      ]
     },
     "metadata": {},
     "output_type": "display_data"
    }
   ],
   "source": [
    "\n",
    "# Group by year and crime type\n",
    "vd_grouped = vancouver_dataset.groupby(['YEAR', 'CRIMES']).size().unstack().fillna(0)\n",
    "\n",
    "# Plot Vancouver crime data\n",
    "plt.figure(figsize=(14, 8))\n",
    "vd_grouped.plot(kind='bar', stacked=True, figsize=(14, 8), width=0.8)\n",
    "plt.title('Crime in Vancouver')\n",
    "plt.xlabel('Year')\n",
    "plt.ylabel('Number of Crimes')\n",
    "plt.tight_layout()\n",
    "plt.show(block = True)\n",
    "\n"
   ]
  },
  {
   "cell_type": "markdown",
   "metadata": {},
   "source": [
    "#### Toronto"
   ]
  },
  {
   "cell_type": "code",
   "execution_count": null,
   "metadata": {},
   "outputs": [
    {
     "data": {
      "text/plain": [
       "<Figure size 1400x800 with 0 Axes>"
      ]
     },
     "metadata": {},
     "output_type": "display_data"
    },
    {
     "data": {
      "image/png": "[encoded data removed]",
      "text/plain": [
       "<Figure size 1400x800 with 1 Axes>"
      ]
     },
     "metadata": {},
     "output_type": "display_data"
    }
   ],
   "source": [
    "\n",
    "\n",
    "toronto_grouped = toronto_dataset.groupby(['YEAR', 'CRIMES']).size().unstack().fillna(0)\n",
    "\n",
    "plt.figure(figsize=(14, 8))\n",
    "toronto_grouped.plot(kind='bar', stacked=True, figsize=(14, 8), width=0.8)\n",
    "plt.title('Crime in Toronto')\n",
    "plt.xlabel('Year')\n",
    "plt.ylabel('Number of Crimes')\n",
    "plt.tight_layout()\n",
    "plt.show()\n"
   ]
  },
  {
   "cell_type": "markdown",
   "metadata": {},
   "source": [
    "### Analysis to identify regions with higher or lower crime rates"
   ]
  },
  {
   "cell_type": "markdown",
   "metadata": {},
   "source": [
    "#### Toronto"
   ]
  },
  {
   "cell_type": "code",
   "execution_count": null,
   "metadata": {},
   "outputs": [
    {
     "data": {
      "text/html": [
       "<div>\n",
       "<style scoped>\n",
       "    .dataframe tbody tr th:only-of-type {\n",
       "        vertical-align: middle;\n",
       "    }\n",
       "\n",
       "    .dataframe tbody tr th {\n",
       "        vertical-align: top;\n",
       "    }\n",
       "\n",
       "    .dataframe thead th {\n",
       "        text-align: right;\n",
       "    }\n",
       "</style>\n",
       "<table border=\"1\" class=\"dataframe\">\n",
       "  <thead>\n",
       "    <tr style=\"text-align: right;\">\n",
       "      <th>CRIMES</th>\n",
       "      <th>Assault</th>\n",
       "      <th>Break and Enter</th>\n",
       "      <th>Homicide</th>\n",
       "    </tr>\n",
       "    <tr>\n",
       "      <th>ZONE</th>\n",
       "      <th></th>\n",
       "      <th></th>\n",
       "      <th></th>\n",
       "    </tr>\n",
       "  </thead>\n",
       "  <tbody>\n",
       "    <tr>\n",
       "      <th>Downtown</th>\n",
       "      <td>19969</td>\n",
       "      <td>6769</td>\n",
       "      <td>29</td>\n",
       "    </tr>\n",
       "    <tr>\n",
       "      <th>East York</th>\n",
       "      <td>7644</td>\n",
       "      <td>3038</td>\n",
       "      <td>24</td>\n",
       "    </tr>\n",
       "    <tr>\n",
       "      <th>Etobicoke</th>\n",
       "      <td>15021</td>\n",
       "      <td>6128</td>\n",
       "      <td>76</td>\n",
       "    </tr>\n",
       "    <tr>\n",
       "      <th>North York</th>\n",
       "      <td>5084</td>\n",
       "      <td>2779</td>\n",
       "      <td>12</td>\n",
       "    </tr>\n",
       "    <tr>\n",
       "      <th>Other</th>\n",
       "      <td>162703</td>\n",
       "      <td>54745</td>\n",
       "      <td>442</td>\n",
       "    </tr>\n",
       "    <tr>\n",
       "      <th>Scarborough</th>\n",
       "      <td>11872</td>\n",
       "      <td>3472</td>\n",
       "      <td>34</td>\n",
       "    </tr>\n",
       "  </tbody>\n",
       "</table>\n",
       "</div>"
      ],
      "text/plain": [
       "CRIMES       Assault  Break and Enter  Homicide\n",
       "ZONE                                           \n",
       "Downtown       19969             6769        29\n",
       "East York       7644             3038        24\n",
       "Etobicoke      15021             6128        76\n",
       "North York      5084             2779        12\n",
       "Other         162703            54745       442\n",
       "Scarborough    11872             3472        34"
      ]
     },
     "execution_count": 52,
     "metadata": {},
     "output_type": "execute_result"
    }
   ],
   "source": [
    "def zone(neighbourhood):\n",
    "    if any(keyword in neighbourhood for keyword in ['Agincourt', 'Malvern', 'Bendale', 'Birchcliffe', 'Scarborough', 'Cliffside']):\n",
    "        return 'Scarborough'\n",
    "    elif any(keyword in neighbourhood for keyword in ['Alderwood', 'Humber', 'Rexdale', 'Islington', 'Etobicoke', 'Kingsview']):\n",
    "        return 'Etobicoke'\n",
    "    elif any(keyword in neighbourhood for keyword in ['Bathurst', 'Bayview', 'Don Mills', 'York Mills', 'Downsview', 'North York']):\n",
    "        return 'North York'\n",
    "    elif any(keyword in neighbourhood for keyword in ['Annex', 'Church-Wellesley', 'Bay-Cloverhill', 'Cabbagetown', 'Kensington', 'Downtown']):\n",
    "        return 'Downtown'\n",
    "    elif any(keyword in neighbourhood for keyword in ['Broadview', 'Danforth', 'Leaside', 'East York', 'Coxwell']):\n",
    "        return 'East York'\n",
    "    else:\n",
    "        return 'Other'\n",
    "\n",
    "toronto_dataset['ZONE'] = toronto_dataset['NEIGHBOURHOOD'].apply(zone)\n",
    "\n",
    "toronto_crime_by_zone = toronto_dataset.groupby(['ZONE', 'CRIMES']).size().unstack().fillna(0).astype(int)\n",
    "\n",
    "toronto_crime_by_zone\n",
    "\n"
   ]
  },
  {
   "cell_type": "markdown",
   "metadata": {},
   "source": [
    "#### Vancouver"
   ]
  },
  {
   "cell_type": "code",
   "execution_count": null,
   "metadata": {},
   "outputs": [
    {
     "data": {
      "text/html": [
       "<div>\n",
       "<style scoped>\n",
       "    .dataframe tbody tr th:only-of-type {\n",
       "        vertical-align: middle;\n",
       "    }\n",
       "\n",
       "    .dataframe tbody tr th {\n",
       "        vertical-align: top;\n",
       "    }\n",
       "\n",
       "    .dataframe thead th {\n",
       "        text-align: right;\n",
       "    }\n",
       "</style>\n",
       "<table border=\"1\" class=\"dataframe\">\n",
       "  <thead>\n",
       "    <tr style=\"text-align: right;\">\n",
       "      <th>CRIMES</th>\n",
       "      <th>Assault</th>\n",
       "      <th>Break and Enter</th>\n",
       "      <th>Homicide</th>\n",
       "    </tr>\n",
       "    <tr>\n",
       "      <th>ZONE</th>\n",
       "      <th></th>\n",
       "      <th></th>\n",
       "      <th></th>\n",
       "    </tr>\n",
       "  </thead>\n",
       "  <tbody>\n",
       "    <tr>\n",
       "      <th>Downtown</th>\n",
       "      <td>17836</td>\n",
       "      <td>11665</td>\n",
       "      <td>54</td>\n",
       "    </tr>\n",
       "    <tr>\n",
       "      <th>East Vancouver</th>\n",
       "      <td>12166</td>\n",
       "      <td>12119</td>\n",
       "      <td>54</td>\n",
       "    </tr>\n",
       "    <tr>\n",
       "      <th>Other</th>\n",
       "      <td>3280</td>\n",
       "      <td>8220</td>\n",
       "      <td>13</td>\n",
       "    </tr>\n",
       "    <tr>\n",
       "      <th>South Vancouver</th>\n",
       "      <td>3577</td>\n",
       "      <td>7281</td>\n",
       "      <td>25</td>\n",
       "    </tr>\n",
       "    <tr>\n",
       "      <th>West Side</th>\n",
       "      <td>1664</td>\n",
       "      <td>8069</td>\n",
       "      <td>9</td>\n",
       "    </tr>\n",
       "  </tbody>\n",
       "</table>\n",
       "</div>"
      ],
      "text/plain": [
       "CRIMES           Assault  Break and Enter  Homicide\n",
       "ZONE                                               \n",
       "Downtown           17836            11665        54\n",
       "East Vancouver     12166            12119        54\n",
       "Other               3280             8220        13\n",
       "South Vancouver     3577             7281        25\n",
       "West Side           1664             8069         9"
      ]
     },
     "execution_count": 53,
     "metadata": {},
     "output_type": "execute_result"
    }
   ],
   "source": [
    "def vancouver_zone(neighbourhood):\n",
    "    if neighbourhood in ['Central Business District', 'West End', 'Stanley Park']:\n",
    "        return 'Downtown'\n",
    "    elif neighbourhood in ['Kitsilano', 'Dunbar-Southlands', 'Arbutus Ridge', 'Shaughnessy', 'Kerrisdale', 'West Point Grey']:\n",
    "        return 'West Side'\n",
    "    elif neighbourhood in ['Grandview-Woodland', 'Hastings-Sunrise', 'Renfrew-Collingwood', 'Strathcona', 'Kensington-Cedar Cottage']:\n",
    "        return 'East Vancouver'\n",
    "    elif neighbourhood in ['Sunset', 'Victoria-Fraserview', 'Marpole', 'Killarney', 'Oakridge', 'South Cambie', 'Musqueam']:\n",
    "        return 'South Vancouver'\n",
    "    else:\n",
    "        return 'Other'\n",
    "    \n",
    "vancouver_dataset.loc[:, 'ZONE'] = vancouver_dataset['NEIGHBOURHOOD'].apply(vancouver_zone)\n",
    "\n",
    "vancouver_filtered = vancouver_dataset[['CRIMES', 'YEAR', 'ZONE']]\n",
    "\n",
    "vancouver_crime_by_zone = vancouver_filtered.groupby(['ZONE', 'CRIMES']).size().unstack().fillna(0).astype(int)\n",
    "\n",
    "vancouver_crime_by_zone\n",
    "\n"
   ]
  },
  {
   "cell_type": "markdown",
   "metadata": {},
   "source": [
    "#### Visualizing Toronto's Crimes Based On Zones "
   ]
  },
  {
   "cell_type": "code",
   "execution_count": null,
   "metadata": {},
   "outputs": [
    {
     "data": {
      "text/plain": [
       "<Figure size 1400x800 with 0 Axes>"
      ]
     },
     "metadata": {},
     "output_type": "display_data"
    },
    {
     "data": {
      "image/png": "[encoded data removed]",
      "text/plain": [
       "<Figure size 1400x800 with 1 Axes>"
      ]
     },
     "metadata": {},
     "output_type": "display_data"
    }
   ],
   "source": [
    "toronto_dataset['ZONE'] = toronto_dataset['NEIGHBOURHOOD'].apply(zone)\n",
    "toronto_dataset['ZONE'] = toronto_dataset['NEIGHBOURHOOD'].apply(zone)\n",
    "toronto_crime_by_zone = toronto_dataset.groupby(['ZONE', 'CRIMES']).size().unstack().fillna(0).astype(int)\n",
    "\n",
    "plt.figure(figsize=(14, 8))\n",
    "toronto_crime_by_zone.plot(kind='bar', stacked=True, figsize=(14, 8), width=0.8)\n",
    "plt.title('Crime in Toronto')\n",
    "plt.xlabel('Zone')\n",
    "plt.ylabel('Number of Crimes')\n",
    "plt.tight_layout()\n",
    "plt.show()"
   ]
  },
  {
   "cell_type": "markdown",
   "metadata": {},
   "source": [
    "#### Visualizing Vancouver's Crimes Based On Zones"
   ]
  },
  {
   "cell_type": "code",
   "execution_count": null,
   "metadata": {},
   "outputs": [
    {
     "data": {
      "text/plain": [
       "<Figure size 1400x800 with 0 Axes>"
      ]
     },
     "metadata": {},
     "output_type": "display_data"
    },
    {
     "data": {
      "image/png": "[encoded data removed]",
      "text/plain": [
       "<Figure size 1400x800 with 1 Axes>"
      ]
     },
     "metadata": {},
     "output_type": "display_data"
    }
   ],
   "source": [
    "vancouver_dataset.loc[:, 'ZONE'] = vancouver_dataset['NEIGHBOURHOOD'].apply(vancouver_zone)\n",
    "\n",
    "vancouver_filtered = vancouver_dataset[['CRIMES', 'YEAR', 'ZONE']]\n",
    "\n",
    "vancouver_crime_by_zone = vancouver_filtered.groupby(['ZONE', 'CRIMES']).size().unstack().fillna(0).astype(int)\n",
    "plt.figure(figsize=(14, 8))\n",
    "vancouver_crime_by_zone.plot(kind='bar', stacked=True, figsize=(14, 8), width=0.8)\n",
    "plt.title('Crime in Vancouver')\n",
    "plt.xlabel('Zone')\n",
    "plt.ylabel('Number of Crimes')\n",
    "plt.tight_layout()\n",
    "plt.show()"
   ]
  },
  {
   "cell_type": "markdown",
   "metadata": {},
   "source": [
    "### Compare crime rates with socioeconomic factors such as income levels or education"
   ]
  },
  {
   "cell_type": "code",
   "execution_count": null,
   "metadata": {},
   "outputs": [],
   "source": []
  }
 ],
 "metadata": {
  "kernelspec": {
   "display_name": "Python 3",
   "language": "python",
   "name": "python3"
  },
  "language_info": {
   "codemirror_mode": {
    "name": "ipython",
    "version": 3
   },
   "file_extension": ".py",
   "mimetype": "text/x-python",
   "name": "python",
   "nbconvert_exporter": "python",
   "pygments_lexer": "ipython3",
   "version": "3.13.2"
  }
 },
 "nbformat": 4,
 "nbformat_minor": 2
}
